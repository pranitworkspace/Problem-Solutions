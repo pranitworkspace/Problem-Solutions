{
 "cells": [
  {
   "cell_type": "markdown",
   "id": "7e24af64",
   "metadata": {},
   "source": [
    "# 1. Implement a stack using a list in Python. Include the necessary methods such as push, pop, and isEmpty."
   ]
  },
  {
   "cell_type": "code",
   "execution_count": 1,
   "id": "f1177b5f",
   "metadata": {},
   "outputs": [],
   "source": [
    "class Stack:\n",
    "    def __init__(self):\n",
    "        self.stack = []\n",
    "\n",
    "    def push(self, item):\n",
    "        self.stack.append(item)\n",
    "\n",
    "    def pop(self):\n",
    "        if not self.isEmpty():\n",
    "            return self.stack.pop()\n",
    "        else:\n",
    "            print(\"Stack is empty.\")\n",
    "            return None\n",
    "\n",
    "    def isEmpty(self):\n",
    "        return len(self.stack) == 0"
   ]
  },
  {
   "cell_type": "code",
   "execution_count": 2,
   "id": "d591b765",
   "metadata": {},
   "outputs": [
    {
     "name": "stdout",
     "output_type": "stream",
     "text": [
      "False\n",
      "3\n",
      "2\n",
      "1\n",
      "Stack is empty.\n",
      "None\n",
      "True\n"
     ]
    }
   ],
   "source": [
    "# Create a new stack\n",
    "stack = Stack()\n",
    "\n",
    "# Push elements onto the stack\n",
    "stack.push(1)\n",
    "stack.push(2)\n",
    "stack.push(3)\n",
    "\n",
    "# Check if the stack is empty\n",
    "print(stack.isEmpty())  # False\n",
    "\n",
    "# Pop elements from the stack\n",
    "print(stack.pop())  # 3\n",
    "print(stack.pop())  # 2\n",
    "print(stack.pop())  # 1\n",
    "print(stack.pop())  # Stack is empty. None\n",
    "\n",
    "# Check if the stack is empty again\n",
    "print(stack.isEmpty())  # True\n"
   ]
  },
  {
   "cell_type": "markdown",
   "id": "db080f33",
   "metadata": {},
   "source": [
    "# 2. Implement a queue using a list in Python. Include the necessary methods such as enqueue, dequeue, and isEmpty."
   ]
  },
  {
   "cell_type": "code",
   "execution_count": 3,
   "id": "fba35bfe",
   "metadata": {},
   "outputs": [],
   "source": [
    "class Queue:\n",
    "    def __init__(self):\n",
    "        self.queue = []\n",
    "\n",
    "    def enqueue(self, item):\n",
    "        self.queue.append(item)\n",
    "\n",
    "    def dequeue(self):\n",
    "        if not self.isEmpty():\n",
    "            return self.queue.pop(0)\n",
    "        else:\n",
    "            print(\"Queue is empty.\")\n",
    "            return None\n",
    "\n",
    "    def isEmpty(self):\n",
    "        return len(self.queue) == 0\n"
   ]
  },
  {
   "cell_type": "code",
   "execution_count": 4,
   "id": "3ad3cab5",
   "metadata": {},
   "outputs": [
    {
     "name": "stdout",
     "output_type": "stream",
     "text": [
      "False\n",
      "1\n",
      "2\n",
      "3\n",
      "Queue is empty.\n",
      "None\n",
      "True\n"
     ]
    }
   ],
   "source": [
    "# Create a new queue\n",
    "queue = Queue()\n",
    "\n",
    "# Enqueue elements into the queue\n",
    "queue.enqueue(1)\n",
    "queue.enqueue(2)\n",
    "queue.enqueue(3)\n",
    "\n",
    "# Check if the queue is empty\n",
    "print(queue.isEmpty())  # False\n",
    "\n",
    "# Dequeue elements from the queue\n",
    "print(queue.dequeue())  # 1\n",
    "print(queue.dequeue())  # 2\n",
    "print(queue.dequeue())  # 3\n",
    "print(queue.dequeue())  # Queue is empty. None\n",
    "\n",
    "# Check if the queue is empty again\n",
    "print(queue.isEmpty())  # True\n"
   ]
  },
  {
   "cell_type": "code",
   "execution_count": null,
   "id": "ca34c34d",
   "metadata": {},
   "outputs": [],
   "source": []
  },
  {
   "cell_type": "code",
   "execution_count": null,
   "id": "11a0f203",
   "metadata": {},
   "outputs": [],
   "source": []
  },
  {
   "cell_type": "code",
   "execution_count": null,
   "id": "fb59512a",
   "metadata": {},
   "outputs": [],
   "source": []
  },
  {
   "cell_type": "code",
   "execution_count": null,
   "id": "5dde43f8",
   "metadata": {},
   "outputs": [],
   "source": []
  },
  {
   "cell_type": "code",
   "execution_count": null,
   "id": "0dafbc81",
   "metadata": {},
   "outputs": [],
   "source": []
  }
 ],
 "metadata": {
  "kernelspec": {
   "display_name": "Python 3 (ipykernel)",
   "language": "python",
   "name": "python3"
  },
  "language_info": {
   "codemirror_mode": {
    "name": "ipython",
    "version": 3
   },
   "file_extension": ".py",
   "mimetype": "text/x-python",
   "name": "python",
   "nbconvert_exporter": "python",
   "pygments_lexer": "ipython3",
   "version": "3.9.7"
  }
 },
 "nbformat": 4,
 "nbformat_minor": 5
}
